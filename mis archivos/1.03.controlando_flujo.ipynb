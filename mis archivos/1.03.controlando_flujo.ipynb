{
 "cells": [
  {
   "attachments": {},
   "cell_type": "markdown",
   "metadata": {},
   "source": [
    "# Controlandp el flujo\n",
    "## Sentencia If - Condiciones\n",
    "### If (si)"
   ]
  },
  {
   "cell_type": "code",
   "execution_count": 1,
   "metadata": {},
   "outputs": [
    {
     "name": "stdout",
     "output_type": "stream",
     "text": [
      "se cumple\n",
      "tambien este\n"
     ]
    }
   ],
   "source": [
    "if True: \n",
    "    print(\"se cumple\")\n",
    "    print(\"tambien este\")"
   ]
  },
  {
   "cell_type": "code",
   "execution_count": 2,
   "metadata": {},
   "outputs": [
    {
     "name": "stdout",
     "output_type": "stream",
     "text": [
      "a = 5\n"
     ]
    }
   ],
   "source": [
    "a = 5\n",
    "if a == 2:\n",
    "    print(\"a = 2\")\n",
    "if a == 5:\n",
    "    print(\"a = 5\")"
   ]
  },
  {
   "cell_type": "code",
   "execution_count": 4,
   "metadata": {},
   "outputs": [
    {
     "name": "stdout",
     "output_type": "stream",
     "text": [
      "a = 5\n",
      "b = 10\n"
     ]
    }
   ],
   "source": [
    "b = 10 \n",
    "if a == 5:\n",
    "    print(\"a =\", a)\n",
    "    if b == 10:\n",
    "        print(\"b =\", b)"
   ]
  },
  {
   "cell_type": "code",
   "execution_count": 5,
   "metadata": {},
   "outputs": [
    {
     "name": "stdout",
     "output_type": "stream",
     "text": [
      "a es 5 y b es 10\n"
     ]
    }
   ],
   "source": [
    "if a == 5 and b ==10:\n",
    "    print(\"a es 5 y b es 10\")"
   ]
  },
  {
   "attachments": {},
   "cell_type": "markdown",
   "metadata": {},
   "source": [
    "### Else (si no)"
   ]
  },
  {
   "cell_type": "code",
   "execution_count": 8,
   "metadata": {},
   "outputs": [
    {
     "name": "stdout",
     "output_type": "stream",
     "text": [
      "11 es impar\n"
     ]
    }
   ],
   "source": [
    "n = 11\n",
    "if n % 2 == 0:\n",
    "    print(n,\"es par\")\n",
    "else:\n",
    "    print(n,\"es impar\")"
   ]
  },
  {
   "attachments": {},
   "cell_type": "markdown",
   "metadata": {},
   "source": [
    "### Elif (sino si)"
   ]
  },
  {
   "cell_type": "code",
   "execution_count": 9,
   "metadata": {},
   "outputs": [
    {
     "name": "stdout",
     "output_type": "stream",
     "text": [
      "comando desconocido\n"
     ]
    }
   ],
   "source": [
    "comando = \"otra cosa\"\n",
    "if comando == \"entrar\":\n",
    "    print(\"bienvenido\")\n",
    "elif comando == \"saludar\":\n",
    "    print(\"hola\")\n",
    "elif comando == \"salir\":\n",
    "    print(\"saliendo\")\n",
    "else:\n",
    "    print(\"comando desconocido\")"
   ]
  },
  {
   "cell_type": "code",
   "execution_count": 1,
   "metadata": {},
   "outputs": [
    {
     "name": "stdout",
     "output_type": "stream",
     "text": [
      "Bien\n"
     ]
    }
   ],
   "source": [
    "nota = float(input(\"Introduce una nota: \"))\n",
    "if nota >= 9:\n",
    "    print(\"Sobresaliente\")\n",
    "elif nota >= 7:\n",
    "    print(\"Notable\")\n",
    "elif nota >= 6:\n",
    "    print(\"Bien\")\n",
    "elif nota >= 5:\n",
    "    print(\"Suficiente\")\n",
    "else:\n",
    "    print(\"Insuficiente\")"
   ]
  },
  {
   "cell_type": "code",
   "execution_count": 1,
   "metadata": {},
   "outputs": [
    {
     "name": "stdout",
     "output_type": "stream",
     "text": [
      "Notable\n"
     ]
    }
   ],
   "source": [
    "nota = float(input(\"Introduce una nota: \"))\n",
    "if nota >= 9:\n",
    "    print(\"Sobresaliente\")\n",
    "if nota >= 7 and nota < 9:\n",
    "    print(\"Notable\")\n",
    "if nota >= 6 and nota < 7:\n",
    "    print(\"Bien\")\n",
    "if nota >= 5 and nota < 6:\n",
    "    print(\"Suficiente\")\n",
    "if nota < 5:\n",
    "    print(\"Insuficiente\")"
   ]
  },
  {
   "attachments": {},
   "cell_type": "markdown",
   "metadata": {},
   "source": [
    "### Pass\n"
   ]
  },
  {
   "cell_type": "code",
   "execution_count": 2,
   "metadata": {},
   "outputs": [],
   "source": [
    "if True:\n",
    "    pass"
   ]
  },
  {
   "attachments": {},
   "cell_type": "markdown",
   "metadata": {},
   "source": [
    "## Sentencia While - Iteraciones\n",
    "### While (mientras)"
   ]
  },
  {
   "cell_type": "code",
   "execution_count": 3,
   "metadata": {},
   "outputs": [
    {
     "name": "stdout",
     "output_type": "stream",
     "text": [
      "c vale 1\n",
      "c vale 2\n",
      "c vale 3\n",
      "c vale 4\n",
      "c vale 5\n",
      "c vale 6\n"
     ]
    }
   ],
   "source": [
    "c = 0\n",
    "while c <= 5:\n",
    "    c += 1\n",
    "    print(\"c vale\", c)"
   ]
  },
  {
   "attachments": {},
   "cell_type": "markdown",
   "metadata": {},
   "source": [
    "### Else en bucle while"
   ]
  },
  {
   "cell_type": "code",
   "execution_count": 4,
   "metadata": {},
   "outputs": [
    {
     "name": "stdout",
     "output_type": "stream",
     "text": [
      "c vale 1\n",
      "c vale 2\n",
      "c vale 3\n",
      "c vale 4\n",
      "c vale 5\n",
      "c vale 6\n",
      "fin de la iteración\n"
     ]
    }
   ],
   "source": [
    "c = 0\n",
    "while c <= 5:\n",
    "    c += 1\n",
    "    print(\"c vale\", c)\n",
    "else:\n",
    "    print(\"fin de la iteración\")"
   ]
  },
  {
   "cell_type": "code",
   "execution_count": 6,
   "metadata": {},
   "outputs": [
    {
     "name": "stdout",
     "output_type": "stream",
     "text": [
      "c vale 1\n",
      "c vale 2\n",
      "c vale 3\n",
      "rompemos el bucle cuando c es: 4\n"
     ]
    }
   ],
   "source": [
    "c = 0\n",
    "while c <= 5:\n",
    "    c += 1\n",
    "    if c==4:\n",
    "        print(\"rompemos el bucle cuando c es:\", c)\n",
    "        break\n",
    "    print(\"c vale\", c)\n",
    "else:\n",
    "    print(\"fin de la iteración\")"
   ]
  },
  {
   "cell_type": "code",
   "execution_count": 8,
   "metadata": {},
   "outputs": [
    {
     "name": "stdout",
     "output_type": "stream",
     "text": [
      "c vale 1\n",
      "c vale 2\n",
      "c vale 5\n",
      "c vale 6\n",
      "fin de la iteración 6\n"
     ]
    }
   ],
   "source": [
    "c = 0\n",
    "while c <= 5:\n",
    "    c += 1\n",
    "    if c==3 or c==4:\n",
    "        #print(\"continuamos la siguiente iteración\", c)\n",
    "        continue\n",
    "    print(\"c vale\", c)\n",
    "else:\n",
    "    print(\"fin de la iteración\",c)"
   ]
  },
  {
   "cell_type": "code",
   "execution_count": 9,
   "metadata": {},
   "outputs": [
    {
     "name": "stdout",
     "output_type": "stream",
     "text": [
      "Bienvenido al menu\n",
      "Escribe una opción:\n",
      "    1) Saludar\n",
      "    2) Sumar dos muneros\n",
      "    3 Salir\n",
      "desconocido, pruebe otra vez\n",
      "Escribe una opción:\n",
      "    1) Saludar\n",
      "    2) Sumar dos muneros\n",
      "    3 Salir\n",
      "desconocido, pruebe otra vez\n",
      "Escribe una opción:\n",
      "    1) Saludar\n",
      "    2) Sumar dos muneros\n",
      "    3 Salir\n",
      "la suma da: 15.0\n",
      "Escribe una opción:\n",
      "    1) Saludar\n",
      "    2) Sumar dos muneros\n",
      "    3 Salir\n",
      "Hola\n",
      "Escribe una opción:\n",
      "    1) Saludar\n",
      "    2) Sumar dos muneros\n",
      "    3 Salir\n",
      "hasta luego\n"
     ]
    }
   ],
   "source": [
    "print(\"Bienvenido al menu\")\n",
    "while(True):\n",
    "    print(\"\"\"Escribe una opción:\n",
    "    1) Saludar\n",
    "    2) Sumar dos muneros\n",
    "    3 Salir\"\"\")\n",
    "    opcion = input()\n",
    "    if opcion == \"1\":\n",
    "        print(\"Hola\")\n",
    "    elif opcion == \"2\":\n",
    "        n1 = float(input(\"introduce un numero:\"))\n",
    "        n2 = float(input(\"Introduce otro numero:\"))\n",
    "        print(\"la suma da:\", n1+n2)\n",
    "    elif opcion == \"3\":\n",
    "        print(\"hasta luego\")\n",
    "        break\n",
    "    else:\n",
    "        print(\"desconocido, pruebe otra vez\")"
   ]
  },
  {
   "attachments": {},
   "cell_type": "markdown",
   "metadata": {},
   "source": [
    "### Recorriendo los elementos de una lista usando while"
   ]
  },
  {
   "cell_type": "code",
   "execution_count": 10,
   "metadata": {},
   "outputs": [
    {
     "name": "stdout",
     "output_type": "stream",
     "text": [
      "1\n",
      "2\n",
      "3\n",
      "4\n",
      "5\n",
      "6\n",
      "7\n",
      "8\n",
      "9\n",
      "10\n"
     ]
    }
   ],
   "source": [
    "n = [1,2,3,4,5,6,7,8,9,10]\n",
    "i = 0\n",
    "while i < len(n):\n",
    "    print(n[i])\n",
    "    i+=1"
   ]
  },
  {
   "attachments": {},
   "cell_type": "markdown",
   "metadata": {},
   "source": [
    "### For(para) con listas"
   ]
  },
  {
   "cell_type": "code",
   "execution_count": 11,
   "metadata": {},
   "outputs": [
    {
     "name": "stdout",
     "output_type": "stream",
     "text": [
      "1\n",
      "2\n",
      "3\n",
      "4\n",
      "5\n",
      "6\n",
      "7\n",
      "8\n",
      "9\n",
      "10\n"
     ]
    }
   ],
   "source": [
    "for num in n:\n",
    "    print(num)"
   ]
  },
  {
   "cell_type": "code",
   "execution_count": 12,
   "metadata": {},
   "outputs": [
    {
     "data": {
      "text/plain": [
       "[10, 20, 30, 40, 50, 60, 70, 80, 90, 100]"
      ]
     },
     "execution_count": 12,
     "metadata": {},
     "output_type": "execute_result"
    }
   ],
   "source": [
    "i = 0\n",
    "for num in n:\n",
    "    n[i] *=10\n",
    "    i+=1\n",
    "n"
   ]
  },
  {
   "cell_type": "code",
   "execution_count": 13,
   "metadata": {},
   "outputs": [
    {
     "data": {
      "text/plain": [
       "[10, 20, 30, 40, 50, 60, 70, 80, 90, 100]"
      ]
     },
     "execution_count": 13,
     "metadata": {},
     "output_type": "execute_result"
    }
   ],
   "source": [
    "n = [1, 2, 3, 4, 5, 6, 7, 8, 9, 10]\n",
    "for i,num in enumerate(n):\n",
    "    n[i] *= 10\n",
    "n"
   ]
  },
  {
   "attachments": {},
   "cell_type": "markdown",
   "metadata": {},
   "source": [
    "### For con cadenas"
   ]
  },
  {
   "cell_type": "code",
   "execution_count": 14,
   "metadata": {},
   "outputs": [
    {
     "name": "stdout",
     "output_type": "stream",
     "text": [
      "H\n",
      "o\n",
      "l\n",
      "a\n",
      " \n",
      "a\n",
      "m\n",
      "i\n",
      "g\n",
      "o\n",
      "s\n"
     ]
    }
   ],
   "source": [
    "c = \"Hola amigos\"\n",
    "for car in c:\n",
    "    print(car)"
   ]
  },
  {
   "cell_type": "code",
   "execution_count": 15,
   "metadata": {},
   "outputs": [
    {
     "ename": "TypeError",
     "evalue": "'str' object does not support item assignment",
     "output_type": "error",
     "traceback": [
      "\u001b[0;31m---------------------------------------------------------------------------\u001b[0m",
      "\u001b[0;31mTypeError\u001b[0m                                 Traceback (most recent call last)",
      "\u001b[1;32m/home/nekko/Documentos/GitHub/curso-python-udemy/mis archivos/1.03.controlando_flujo.ipynb Celda 29\u001b[0m in \u001b[0;36m<cell line: 1>\u001b[0;34m()\u001b[0m\n\u001b[1;32m      <a href='vscode-notebook-cell:/home/nekko/Documentos/GitHub/curso-python-udemy/mis%20archivos/1.03.controlando_flujo.ipynb#X40sZmlsZQ%3D%3D?line=0'>1</a>\u001b[0m \u001b[39mfor\u001b[39;00m i,c \u001b[39min\u001b[39;00m \u001b[39menumerate\u001b[39m(c):\n\u001b[0;32m----> <a href='vscode-notebook-cell:/home/nekko/Documentos/GitHub/curso-python-udemy/mis%20archivos/1.03.controlando_flujo.ipynb#X40sZmlsZQ%3D%3D?line=1'>2</a>\u001b[0m     c[i] \u001b[39m=\u001b[39m \u001b[39m\"\u001b[39m\u001b[39m*\u001b[39m\u001b[39m\"\u001b[39m\n",
      "\u001b[0;31mTypeError\u001b[0m: 'str' object does not support item assignment"
     ]
    }
   ],
   "source": [
    "for i,c in enumerate(c):\n",
    "    c[i] = \"*\""
   ]
  },
  {
   "cell_type": "code",
   "execution_count": 18,
   "metadata": {},
   "outputs": [
    {
     "name": "stdout",
     "output_type": "stream",
     "text": [
      "Hola Amigos\n",
      "HHoollaa  AAmmiiggooss\n"
     ]
    }
   ],
   "source": [
    "c = \"Hola Amigos\"\n",
    "c2 = \"\"\n",
    "for cr in c:\n",
    "    c2 +=cr*2\n",
    "\n",
    "print(c)\n",
    "print(c2)"
   ]
  },
  {
   "cell_type": "code",
   "execution_count": null,
   "metadata": {},
   "outputs": [],
   "source": []
  }
 ],
 "metadata": {
  "kernelspec": {
   "display_name": "base",
   "language": "python",
   "name": "python3"
  },
  "language_info": {
   "codemirror_mode": {
    "name": "ipython",
    "version": 3
   },
   "file_extension": ".py",
   "mimetype": "text/x-python",
   "name": "python",
   "nbconvert_exporter": "python",
   "pygments_lexer": "ipython3",
   "version": "3.9.12"
  },
  "orig_nbformat": 4,
  "vscode": {
   "interpreter": {
    "hash": "8529b65d0319367443e7302daa7c037c5f73498f66a12cef96a9fd37acbd4504"
   }
  }
 },
 "nbformat": 4,
 "nbformat_minor": 2
}
