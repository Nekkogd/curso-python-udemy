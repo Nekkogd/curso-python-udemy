{
 "cells": [
  {
   "attachments": {},
   "cell_type": "markdown",
   "metadata": {},
   "source": [
    "# Controlandp el flujo\n",
    "## Sentencia If - Condiciones\n",
    "### If (si)"
   ]
  },
  {
   "cell_type": "code",
   "execution_count": 1,
   "metadata": {},
   "outputs": [
    {
     "name": "stdout",
     "output_type": "stream",
     "text": [
      "se cumple\n",
      "tambien este\n"
     ]
    }
   ],
   "source": [
    "if True: \n",
    "    print(\"se cumple\")\n",
    "    print(\"tambien este\")"
   ]
  },
  {
   "cell_type": "code",
   "execution_count": 2,
   "metadata": {},
   "outputs": [
    {
     "name": "stdout",
     "output_type": "stream",
     "text": [
      "a = 5\n"
     ]
    }
   ],
   "source": [
    "a = 5\n",
    "if a == 2:\n",
    "    print(\"a = 2\")\n",
    "if a == 5:\n",
    "    print(\"a = 5\")"
   ]
  },
  {
   "cell_type": "code",
   "execution_count": 4,
   "metadata": {},
   "outputs": [
    {
     "name": "stdout",
     "output_type": "stream",
     "text": [
      "a = 5\n",
      "b = 10\n"
     ]
    }
   ],
   "source": [
    "b = 10 \n",
    "if a == 5:\n",
    "    print(\"a =\", a)\n",
    "    if b == 10:\n",
    "        print(\"b =\", b)"
   ]
  },
  {
   "cell_type": "code",
   "execution_count": 5,
   "metadata": {},
   "outputs": [
    {
     "name": "stdout",
     "output_type": "stream",
     "text": [
      "a es 5 y b es 10\n"
     ]
    }
   ],
   "source": [
    "if a == 5 and b ==10:\n",
    "    print(\"a es 5 y b es 10\")"
   ]
  },
  {
   "attachments": {},
   "cell_type": "markdown",
   "metadata": {},
   "source": [
    "### Else (si no)"
   ]
  },
  {
   "cell_type": "code",
   "execution_count": 8,
   "metadata": {},
   "outputs": [
    {
     "name": "stdout",
     "output_type": "stream",
     "text": [
      "11 es impar\n"
     ]
    }
   ],
   "source": [
    "n = 11\n",
    "if n % 2 == 0:\n",
    "    print(n,\"es par\")\n",
    "else:\n",
    "    print(n,\"es impar\")"
   ]
  },
  {
   "attachments": {},
   "cell_type": "markdown",
   "metadata": {},
   "source": [
    "### Elif (sino si)"
   ]
  },
  {
   "cell_type": "code",
   "execution_count": 9,
   "metadata": {},
   "outputs": [
    {
     "name": "stdout",
     "output_type": "stream",
     "text": [
      "comando desconocido\n"
     ]
    }
   ],
   "source": [
    "comando = \"otra cosa\"\n",
    "if comando == \"entrar\":\n",
    "    print(\"bienvenido\")\n",
    "elif comando == \"saludar\":\n",
    "    print(\"hola\")\n",
    "elif comando == \"salir\":\n",
    "    print(\"saliendo\")\n",
    "else:\n",
    "    print(\"comando desconocido\")"
   ]
  },
  {
   "cell_type": "code",
   "execution_count": 1,
   "metadata": {},
   "outputs": [
    {
     "name": "stdout",
     "output_type": "stream",
     "text": [
      "Bien\n"
     ]
    }
   ],
   "source": [
    "nota = float(input(\"Introduce una nota: \"))\n",
    "if nota >= 9:\n",
    "    print(\"Sobresaliente\")\n",
    "elif nota >= 7:\n",
    "    print(\"Notable\")\n",
    "elif nota >= 6:\n",
    "    print(\"Bien\")\n",
    "elif nota >= 5:\n",
    "    print(\"Suficiente\")\n",
    "else:\n",
    "    print(\"Insuficiente\")"
   ]
  },
  {
   "cell_type": "code",
   "execution_count": 1,
   "metadata": {},
   "outputs": [
    {
     "name": "stdout",
     "output_type": "stream",
     "text": [
      "Notable\n"
     ]
    }
   ],
   "source": [
    "nota = float(input(\"Introduce una nota: \"))\n",
    "if nota >= 9:\n",
    "    print(\"Sobresaliente\")\n",
    "if nota >= 7 and nota < 9:\n",
    "    print(\"Notable\")\n",
    "if nota >= 6 and nota < 7:\n",
    "    print(\"Bien\")\n",
    "if nota >= 5 and nota < 6:\n",
    "    print(\"Suficiente\")\n",
    "if nota < 5:\n",
    "    print(\"Insuficiente\")"
   ]
  },
  {
   "attachments": {},
   "cell_type": "markdown",
   "metadata": {},
   "source": [
    "### Pass\n"
   ]
  },
  {
   "cell_type": "code",
   "execution_count": 2,
   "metadata": {},
   "outputs": [],
   "source": [
    "if True:\n",
    "    pass"
   ]
  },
  {
   "attachments": {},
   "cell_type": "markdown",
   "metadata": {},
   "source": [
    "## Sentencia While - Iteraciones\n",
    "### While (mientras)"
   ]
  },
  {
   "cell_type": "code",
   "execution_count": 3,
   "metadata": {},
   "outputs": [
    {
     "name": "stdout",
     "output_type": "stream",
     "text": [
      "c vale 1\n",
      "c vale 2\n",
      "c vale 3\n",
      "c vale 4\n",
      "c vale 5\n",
      "c vale 6\n"
     ]
    }
   ],
   "source": [
    "c = 0\n",
    "while c <= 5:\n",
    "    c += 1\n",
    "    print(\"c vale\", c)"
   ]
  },
  {
   "attachments": {},
   "cell_type": "markdown",
   "metadata": {},
   "source": [
    "### Else en bucle while"
   ]
  },
  {
   "cell_type": "code",
   "execution_count": 4,
   "metadata": {},
   "outputs": [
    {
     "name": "stdout",
     "output_type": "stream",
     "text": [
      "c vale 1\n",
      "c vale 2\n",
      "c vale 3\n",
      "c vale 4\n",
      "c vale 5\n",
      "c vale 6\n",
      "fin de la iteración\n"
     ]
    }
   ],
   "source": [
    "c = 0\n",
    "while c <= 5:\n",
    "    c += 1\n",
    "    print(\"c vale\", c)\n",
    "else:\n",
    "    print(\"fin de la iteración\")"
   ]
  },
  {
   "cell_type": "code",
   "execution_count": 6,
   "metadata": {},
   "outputs": [
    {
     "name": "stdout",
     "output_type": "stream",
     "text": [
      "c vale 1\n",
      "c vale 2\n",
      "c vale 3\n",
      "rompemos el bucle cuando c es: 4\n"
     ]
    }
   ],
   "source": [
    "c = 0\n",
    "while c <= 5:\n",
    "    c += 1\n",
    "    if c==4:\n",
    "        print(\"rompemos el bucle cuando c es:\", c)\n",
    "        break\n",
    "    print(\"c vale\", c)\n",
    "else:\n",
    "    print(\"fin de la iteración\")"
   ]
  },
  {
   "cell_type": "code",
   "execution_count": 8,
   "metadata": {},
   "outputs": [
    {
     "name": "stdout",
     "output_type": "stream",
     "text": [
      "c vale 1\n",
      "c vale 2\n",
      "c vale 5\n",
      "c vale 6\n",
      "fin de la iteración 6\n"
     ]
    }
   ],
   "source": [
    "c = 0\n",
    "while c <= 5:\n",
    "    c += 1\n",
    "    if c==3 or c==4:\n",
    "        #print(\"continuamos la siguiente iteración\", c)\n",
    "        continue\n",
    "    print(\"c vale\", c)\n",
    "else:\n",
    "    print(\"fin de la iteración\",c)"
   ]
  },
  {
   "cell_type": "code",
   "execution_count": 9,
   "metadata": {},
   "outputs": [
    {
     "name": "stdout",
     "output_type": "stream",
     "text": [
      "Bienvenido al menu\n",
      "Escribe una opción:\n",
      "    1) Saludar\n",
      "    2) Sumar dos muneros\n",
      "    3 Salir\n",
      "desconocido, pruebe otra vez\n",
      "Escribe una opción:\n",
      "    1) Saludar\n",
      "    2) Sumar dos muneros\n",
      "    3 Salir\n",
      "desconocido, pruebe otra vez\n",
      "Escribe una opción:\n",
      "    1) Saludar\n",
      "    2) Sumar dos muneros\n",
      "    3 Salir\n",
      "la suma da: 15.0\n",
      "Escribe una opción:\n",
      "    1) Saludar\n",
      "    2) Sumar dos muneros\n",
      "    3 Salir\n",
      "Hola\n",
      "Escribe una opción:\n",
      "    1) Saludar\n",
      "    2) Sumar dos muneros\n",
      "    3 Salir\n",
      "hasta luego\n"
     ]
    }
   ],
   "source": [
    "print(\"Bienvenido al menu\")\n",
    "while(True):\n",
    "    print(\"\"\"Escribe una opción:\n",
    "    1) Saludar\n",
    "    2) Sumar dos muneros\n",
    "    3 Salir\"\"\")\n",
    "    opcion = input()\n",
    "    if opcion == \"1\":\n",
    "        print(\"Hola\")\n",
    "    elif opcion == \"2\":\n",
    "        n1 = float(input(\"introduce un numero:\"))\n",
    "        n2 = float(input(\"Introduce otro numero:\"))\n",
    "        print(\"la suma da:\", n1+n2)\n",
    "    elif opcion == \"3\":\n",
    "        print(\"hasta luego\")\n",
    "        break\n",
    "    else:\n",
    "        print(\"desconocido, pruebe otra vez\")"
   ]
  },
  {
   "attachments": {},
   "cell_type": "markdown",
   "metadata": {},
   "source": [
    "### Recorriendo los elementos de una lista usando while"
   ]
  },
  {
   "cell_type": "code",
   "execution_count": 10,
   "metadata": {},
   "outputs": [
    {
     "name": "stdout",
     "output_type": "stream",
     "text": [
      "1\n",
      "2\n",
      "3\n",
      "4\n",
      "5\n",
      "6\n",
      "7\n",
      "8\n",
      "9\n",
      "10\n"
     ]
    }
   ],
   "source": [
    "n = [1,2,3,4,5,6,7,8,9,10]\n",
    "i = 0\n",
    "while i < len(n):\n",
    "    print(n[i])\n",
    "    i+=1"
   ]
  },
  {
   "attachments": {},
   "cell_type": "markdown",
   "metadata": {},
   "source": [
    "### For(para) con listas"
   ]
  },
  {
   "cell_type": "code",
   "execution_count": 11,
   "metadata": {},
   "outputs": [
    {
     "name": "stdout",
     "output_type": "stream",
     "text": [
      "1\n",
      "2\n",
      "3\n",
      "4\n",
      "5\n",
      "6\n",
      "7\n",
      "8\n",
      "9\n",
      "10\n"
     ]
    }
   ],
   "source": [
    "for num in n:\n",
    "    print(num)"
   ]
  },
  {
   "cell_type": "code",
   "execution_count": 12,
   "metadata": {},
   "outputs": [
    {
     "data": {
      "text/plain": [
       "[10, 20, 30, 40, 50, 60, 70, 80, 90, 100]"
      ]
     },
     "execution_count": 12,
     "metadata": {},
     "output_type": "execute_result"
    }
   ],
   "source": [
    "i = 0\n",
    "for num in n:\n",
    "    n[i] *=10\n",
    "    i+=1\n",
    "n"
   ]
  },
  {
   "cell_type": "code",
   "execution_count": 13,
   "metadata": {},
   "outputs": [
    {
     "data": {
      "text/plain": [
       "[10, 20, 30, 40, 50, 60, 70, 80, 90, 100]"
      ]
     },
     "execution_count": 13,
     "metadata": {},
     "output_type": "execute_result"
    }
   ],
   "source": [
    "n = [1, 2, 3, 4, 5, 6, 7, 8, 9, 10]\n",
    "for i,num in enumerate(n):\n",
    "    n[i] *= 10\n",
    "n"
   ]
  },
  {
   "attachments": {},
   "cell_type": "markdown",
   "metadata": {},
   "source": [
    "### For con cadenas"
   ]
  },
  {
   "cell_type": "code",
   "execution_count": 14,
   "metadata": {},
   "outputs": [
    {
     "name": "stdout",
     "output_type": "stream",
     "text": [
      "H\n",
      "o\n",
      "l\n",
      "a\n",
      " \n",
      "a\n",
      "m\n",
      "i\n",
      "g\n",
      "o\n",
      "s\n"
     ]
    }
   ],
   "source": [
    "c = \"Hola amigos\"\n",
    "for car in c:\n",
    "    print(car)"
   ]
  },
  {
   "cell_type": "code",
   "execution_count": 15,
   "metadata": {},
   "outputs": [
    {
     "ename": "TypeError",
     "evalue": "'str' object does not support item assignment",
     "output_type": "error",
     "traceback": [
      "\u001b[0;31m---------------------------------------------------------------------------\u001b[0m",
      "\u001b[0;31mTypeError\u001b[0m                                 Traceback (most recent call last)",
      "\u001b[1;32m/home/nekko/Documentos/GitHub/curso-python-udemy/mis archivos/1.03.controlando_flujo.ipynb Celda 29\u001b[0m in \u001b[0;36m<cell line: 1>\u001b[0;34m()\u001b[0m\n\u001b[1;32m      <a href='vscode-notebook-cell:/home/nekko/Documentos/GitHub/curso-python-udemy/mis%20archivos/1.03.controlando_flujo.ipynb#X40sZmlsZQ%3D%3D?line=0'>1</a>\u001b[0m \u001b[39mfor\u001b[39;00m i,c \u001b[39min\u001b[39;00m \u001b[39menumerate\u001b[39m(c):\n\u001b[0;32m----> <a href='vscode-notebook-cell:/home/nekko/Documentos/GitHub/curso-python-udemy/mis%20archivos/1.03.controlando_flujo.ipynb#X40sZmlsZQ%3D%3D?line=1'>2</a>\u001b[0m     c[i] \u001b[39m=\u001b[39m \u001b[39m\"\u001b[39m\u001b[39m*\u001b[39m\u001b[39m\"\u001b[39m\n",
      "\u001b[0;31mTypeError\u001b[0m: 'str' object does not support item assignment"
     ]
    }
   ],
   "source": [
    "for i,c in enumerate(c):\n",
    "    c[i] = \"*\""
   ]
  },
  {
   "cell_type": "code",
   "execution_count": 18,
   "metadata": {},
   "outputs": [
    {
     "name": "stdout",
     "output_type": "stream",
     "text": [
      "Hola Amigos\n",
      "HHoollaa  AAmmiiggooss\n"
     ]
    }
   ],
   "source": [
    "c = \"Hola Amigos\"\n",
    "c2 = \"\"\n",
    "for cr in c:\n",
    "    c2 +=cr*2\n",
    "\n",
    "print(c)\n",
    "print(c2)"
   ]
  },
  {
   "attachments": {},
   "cell_type": "markdown",
   "metadata": {},
   "source": [
    "### Range()"
   ]
  },
  {
   "cell_type": "code",
   "execution_count": 19,
   "metadata": {},
   "outputs": [
    {
     "name": "stdout",
     "output_type": "stream",
     "text": [
      "0\n",
      "1\n",
      "2\n",
      "3\n",
      "4\n",
      "5\n",
      "6\n",
      "7\n",
      "8\n",
      "9\n"
     ]
    }
   ],
   "source": [
    "for i in range(10):\n",
    "    print(i)"
   ]
  },
  {
   "cell_type": "code",
   "execution_count": 20,
   "metadata": {},
   "outputs": [
    {
     "data": {
      "text/plain": [
       "range(0, 10)"
      ]
     },
     "execution_count": 20,
     "metadata": {},
     "output_type": "execute_result"
    }
   ],
   "source": [
    "range(10)"
   ]
  },
  {
   "cell_type": "code",
   "execution_count": 21,
   "metadata": {},
   "outputs": [
    {
     "name": "stdout",
     "output_type": "stream",
     "text": [
      "1\n",
      "2\n",
      "3\n",
      "4\n",
      "5\n",
      "6\n",
      "7\n",
      "8\n",
      "9\n"
     ]
    }
   ],
   "source": [
    "for i in [1,2,3,4,5,6,7,8,9]:\n",
    "    print(i)"
   ]
  },
  {
   "cell_type": "code",
   "execution_count": 22,
   "metadata": {},
   "outputs": [
    {
     "data": {
      "text/plain": [
       "[0, 1, 2, 3, 4, 5, 6, 7, 8, 9]"
      ]
     },
     "execution_count": 22,
     "metadata": {},
     "output_type": "execute_result"
    }
   ],
   "source": [
    "list(range(10))"
   ]
  },
  {
   "attachments": {},
   "cell_type": "markdown",
   "metadata": {},
   "source": [
    "## Ejemplo de Cabecera"
   ]
  },
  {
   "cell_type": "code",
   "execution_count": 23,
   "metadata": {},
   "outputs": [
    {
     "name": "stdout",
     "output_type": "stream",
     "text": [
      "0 es un numero par\n",
      "1 es un umero impar\n",
      "2 es un numero par\n",
      "3 es un umero impar\n",
      "4 es un numero par\n",
      "5 es un umero impar\n",
      "6 es un numero par\n",
      "7 es un umero impar\n",
      "8 es un numero par\n",
      "9 es un umero impar\n"
     ]
    }
   ],
   "source": [
    "n = 0\n",
    "while n < 10:\n",
    "    if (n%2) == 0:\n",
    "        print(n, \"es un numero par\")\n",
    "    else:\n",
    "        print(n, \"es un umero impar\")\n",
    "    n += 1"
   ]
  },
  {
   "attachments": {},
   "cell_type": "markdown",
   "metadata": {},
   "source": [
    "# Ejercicios"
   ]
  },
  {
   "cell_type": "code",
   "execution_count": 57,
   "metadata": {},
   "outputs": [
    {
     "name": "stdout",
     "output_type": "stream",
     "text": [
      "La resta de los numeros es: -3.0\n"
     ]
    }
   ],
   "source": [
    "\"\"\"1. Realiza un programa que lea dos números por teclado y permita elegir entre 3 opciones en un menú:** \n",
    "* Mostrar una suma de los dos números\n",
    "* Mostrar una resta de los dos números (el primero menos el segundo)\n",
    "* Mostrar una multiplicación de los dos números\n",
    "* En caso de no introducir una opción válida, el programa informará de que no es correcta.\"\"\"\n",
    "\n",
    "num1 = float(input(\"Ingrese un numero:\"))\n",
    "num2 = float(input(\"Ingrese otro numero:\"))\n",
    "opcion = int(input(\"\"\"Que decea hacer con los numeros:\n",
    "1) sumarlos\n",
    "2) restarlos(el primero menos el segundo)\n",
    "3) multiplicarlos\n",
    "\"\"\"))\n",
    "if opcion == 1:\n",
    "    print(\"La suma de los numeros es:\",num1+num2)\n",
    "elif opcion == 2:\n",
    "    print(\"La resta de los numeros es:\", num1-num2)\n",
    "elif opcion == 3:\n",
    "    print(\"La multiplicación de los numero es:\",num1*num2)\n",
    "else:\n",
    "    print(\"La opcion seleccionada no es valida\")"
   ]
  },
  {
   "cell_type": "code",
   "execution_count": 27,
   "metadata": {},
   "outputs": [],
   "source": [
    "\"\"\"2. Realiza un programa que lea un número impar por teclado. Si el usuario no introduce un numero impar, debe repetirse el proceso hasta que lo introdusca correctamtente\"\"\"\n",
    "\n",
    "ni = int(input(\"Ingrese un numero impar:\"))\n",
    "while ni % 2 == 0:\n",
    "    ni = int(input(\"El numero ingresado no es impar, intente otra vez:\"))\n",
    "    "
   ]
  },
  {
   "cell_type": "code",
   "execution_count": 58,
   "metadata": {},
   "outputs": [
    {
     "data": {
      "text/plain": [
       "2550"
      ]
     },
     "execution_count": 58,
     "metadata": {},
     "output_type": "execute_result"
    }
   ],
   "source": [
    "\"\"\"3. Realice un programa que sume todos los numeros pares desde el 0 hasta el 100\"\"\"\n",
    "\n",
    "suma = sum(range(0,101,2))\n",
    "suma"
   ]
  },
  {
   "cell_type": "code",
   "execution_count": 42,
   "metadata": {},
   "outputs": [
    {
     "data": {
      "text/plain": [
       "5.0"
      ]
     },
     "execution_count": 42,
     "metadata": {},
     "output_type": "execute_result"
    }
   ],
   "source": [
    "\"\"\"4. Realiza un programa que pida al usuario cuantos números quiere introducir. Luego lee todos los números y realiza una media aritmética\"\"\"\n",
    "\n",
    "cantidad = int(input(\"Cuantos números decea ingresar:\"))\n",
    "numeros = []\n",
    "for i in range(cantidad):\n",
    "    numeros.append(float(input(\"Ingrese un numero:\")))\n",
    "\n",
    "ma = sum(numeros)/len(numeros)\n",
    "ma"
   ]
  },
  {
   "cell_type": "code",
   "execution_count": 59,
   "metadata": {},
   "outputs": [
    {
     "name": "stdout",
     "output_type": "stream",
     "text": [
      "El numero no se encuentra en la lista de numeros\n"
     ]
    }
   ],
   "source": [
    "\"\"\"5. Realiza un programa que pida al usuario un número entero del 0 al 9, y que mientras el número no sea correcto se repita el proceso. Luego debe comprobar si el número se encuentra en la lista de números y notificarlo\"\"\"\n",
    "lista=list(range(10))\n",
    "numeros = [1, 3, 6, 9]\n",
    "while True:\n",
    "    numero = int(input(\"Ingrese un numero entre 0 y 9:\"))\n",
    "    if numero >= 0 and numero <= 9:\n",
    "        break\n",
    "if numero in numeros:\n",
    "    print(\"El numero se encuentra en la lista de numeros\")\n",
    "else:\n",
    "    print(\"El numero no se encuentra en la lista de numeros\")\n"
   ]
  },
  {
   "cell_type": "code",
   "execution_count": 60,
   "metadata": {},
   "outputs": [
    {
     "name": "stdout",
     "output_type": "stream",
     "text": [
      "[0, 1, 2, 3, 4, 5, 6, 7, 8, 9, 10]\n",
      "[-10, -9, -8, -7, -6, -5, -4, -3, -2, -1, 0]\n",
      "[0, 2, 4, 6, 8, 10, 12, 14, 16, 18, 20]\n",
      "[-19, -17, -15, -13, -11, -9, -7, -5, -3, -1]\n",
      "[0, 5, 10, 15, 20, 25, 30, 35, 40, 45, 50]\n"
     ]
    }
   ],
   "source": [
    "\"\"\"6. Utilizando la función range() y la conversión a listas genera las siguientes listas dinámicamente:\n",
    "* Todos los números del 0 al 10 [0, 1, 2, ..., 10]\n",
    "* Todos los números del -10 al 0 [-10, -9, -8, ..., 0]\n",
    "* Todos los números pares del 0 al 20 [0, 2, 4, ..., 20]\n",
    "* Todos los números impares entre -20 y 0 [-19, -17, -15, ..., -1]\n",
    "* Todos los números múltiples de 5 del 0 al 50 [0, 5, 10, ..., 50]\"\"\"\n",
    "\n",
    "print( list(range(11)))\n",
    "print(  list(range(-10,1,1)))\n",
    "print(  list(range(0,21,2)))\n",
    "print(  list(range(-19,0,2)))\n",
    "print(  list(range(0,51,5)))"
   ]
  },
  {
   "cell_type": "code",
   "execution_count": 62,
   "metadata": {},
   "outputs": [
    {
     "data": {
      "text/plain": [
       "[2, 5, 7, 4, 3, 'dsf', 'A']"
      ]
     },
     "execution_count": 62,
     "metadata": {},
     "output_type": "execute_result"
    }
   ],
   "source": [
    "\"\"\"7. Dadas dos listas, debes generar una tercera con todos los elementos que se repitan en ellas, pero no debe repetise ningún elemento en la nueva lista:\"\"\"\n",
    "\n",
    "lista_A = [\"a\",2,5,7,9,2,4,3,5,7,3,12,\"dsf\",\"f\",\"A\"]\n",
    "lista_B = [\"dsf\",\"dsf\",3,2,5,67,23,2,5,7,4,2,\"A\",\"B\"]\n",
    "lista_R = []\n",
    "for i in lista_A:\n",
    "    if i in lista_B and i not in lista_R:\n",
    "        lista_R.append(i)\n",
    "lista_R"
   ]
  },
  {
   "cell_type": "code",
   "execution_count": null,
   "metadata": {},
   "outputs": [],
   "source": []
  }
 ],
 "metadata": {
  "kernelspec": {
   "display_name": "base",
   "language": "python",
   "name": "python3"
  },
  "language_info": {
   "codemirror_mode": {
    "name": "ipython",
    "version": 3
   },
   "file_extension": ".py",
   "mimetype": "text/x-python",
   "name": "python",
   "nbconvert_exporter": "python",
   "pygments_lexer": "ipython3",
   "version": "3.9.12"
  },
  "orig_nbformat": 4,
  "vscode": {
   "interpreter": {
    "hash": "8529b65d0319367443e7302daa7c037c5f73498f66a12cef96a9fd37acbd4504"
   }
  }
 },
 "nbformat": 4,
 "nbformat_minor": 2
}
